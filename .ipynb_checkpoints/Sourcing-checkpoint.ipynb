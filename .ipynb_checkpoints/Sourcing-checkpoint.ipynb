{
 "cells": [
  {
   "cell_type": "code",
   "execution_count": 14,
   "metadata": {},
   "outputs": [],
   "source": [
    "import pandas as pd\n"
   ]
  },
  {
   "cell_type": "code",
   "execution_count": 15,
   "metadata": {},
   "outputs": [],
   "source": [
    "# first list\n",
    "# concatenate list with first and last name column, @, then passed in domain\n",
    "# format: 'first_initial' + 'last' @ format e.g.) jdoe@domain.com\n",
    "# excel sheet passed in should conatin a 'First' and 'Last' name column, domain is of type string\n",
    "def format0(sheet, domain) -> None:\n",
    "    # read into as dataframe\n",
    "    # for each row, concat 'First'[0].lower() + 'Last' + '@' + 'domain.com'\n",
    "    # add into list\n",
    "    # create Dataframe with list, then write to excel sheet called 'Email.xlsx'\n",
    "    data = pd.read_excel(str(sheet))\n",
    "    length = data.shape[0]\n",
    "    emails = []\n",
    "    for i in range(length):\n",
    "        emails.append(data['First'][i].lower()[0] + data['Last'][i].lower() + '@' + domain + '.com')\n",
    "    \n",
    "    newdata = pd.DataFrame(emails, columns=['Email'])\n",
    "    \n",
    "    newdata.to_excel('Email.xlsx', index=False)\n",
    "        \n",
    "    \n",
    "    \n",
    "    \n"
   ]
  },
  {
   "cell_type": "code",
   "execution_count": 16,
   "metadata": {},
   "outputs": [],
   "source": [
    "def format1(sheet, domain) -> None: # this is for the format: 'first' + 'last' + '@domain.com'\n",
    "    data = pd.read_excel(str(sheet))\n",
    "    length = data.shape[0]\n",
    "    emails = []\n",
    "    for i in range(length):\n",
    "        emails.append(data['First'][i].lower() + data['Last'][i].lower() + '@' + domain + '.com')\n",
    "    \n",
    "    newdata = pd.DataFrame(emails, columns=['Email'])\n",
    "    \n",
    "    newdata.to_excel('Email.xlsx', index=False)\n",
    "        "
   ]
  },
  {
   "cell_type": "code",
   "execution_count": 17,
   "metadata": {},
   "outputs": [],
   "source": [
    "def format2(sheet, domain) -> None: # this is for the format: 'first' + '.' + 'last' + '@domain.com'\n",
    "    data = pd.read_excel(str(sheet))\n",
    "    length = data.shape[0]\n",
    "    emails = []\n",
    "    for i in range(length):\n",
    "        emails.append(data['First'][i].lower() + '.' + data['Last'][i].lower() + '@' + domain + '.com')\n",
    "    \n",
    "    newdata = pd.DataFrame(emails, columns=['Email'])\n",
    "    \n",
    "    newdata.to_excel('Email.xlsx', index=False)"
   ]
  },
  {
   "cell_type": "code",
   "execution_count": 18,
   "metadata": {},
   "outputs": [],
   "source": [
    "def makesheet(sheet, domain, code) -> None:\n",
    "    # set code to 0, 1, 2 ... for which format you want above\n",
    "    if code == 0:\n",
    "        format0(sheet, domain)\n",
    "    elif code == 1:\n",
    "        format1(sheet, domain)\n",
    "    elif code == 2:\n",
    "        format2(sheet, domain)\n",
    "    else:\n",
    "        return\n",
    "        \n",
    "\n",
    "    "
   ]
  },
  {
   "cell_type": "code",
   "execution_count": null,
   "metadata": {},
   "outputs": [],
   "source": [
    "# use\n"
   ]
  }
 ],
 "metadata": {
  "kernelspec": {
   "display_name": "Python 3",
   "language": "python",
   "name": "python3"
  },
  "language_info": {
   "codemirror_mode": {
    "name": "ipython",
    "version": 3
   },
   "file_extension": ".py",
   "mimetype": "text/x-python",
   "name": "python",
   "nbconvert_exporter": "python",
   "pygments_lexer": "ipython3",
   "version": "3.8.3"
  }
 },
 "nbformat": 4,
 "nbformat_minor": 4
}
